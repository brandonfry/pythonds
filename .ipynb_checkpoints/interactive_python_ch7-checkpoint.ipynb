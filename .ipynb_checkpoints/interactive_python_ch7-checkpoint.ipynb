{
 "cells": [
  {
   "cell_type": "markdown",
   "metadata": {},
   "source": [
    "# Interactive Python\n",
    "## Chapter 7\n",
    "### Graphs and Graph Algorithms\n",
    "\n",
    "* Trees are a type of graph\n",
    "\n",
    "#### Vocabulary\n",
    "\n",
    "1. **Vertex** (**node**): fundamental part of a graph. It can have a name (**key**) and also additional information (**payload** or **value**).\n",
    "2. **Edge** (**arc**): conncts two vertices to show a relationship between them. May be one-way (**directed graph** or **digraph**) or two-way.\n",
    "3. **Weight**: edges may be weighted to show the cost of going from one vertex to another.\n",
    "4. **Path**: a sequence of vertices that are connected by edges. Formally defined as $w_1, w_2,...,w_n$ such that $(w_i,w_{i+1}) \\in E$ for all $1 \\le i \\le n-1$. The unweighted path length is the number of edges in path, specifically $n-1$. The weighted path length is the sum of the weights of all the edges in the path.\n",
    "5. **Cycle**: A cycle in a directed graph is a path that starts and ends at the same vertex. A graph with no cycles is called an **acyclic graph**. A directed graph with no cycles is likewise called a **directed acyclic graph** or **DAG**. \n",
    "\n",
    "#### Formal Definition of a Graph\n",
    "\n",
    "A graph $G$ where $G = (V,E)$. $V$ and $E$ are sets of vertices and edges, respectively. Each edge is a tuple $(v,w)$ where $w,v \\in V$. A third value may be added to the tuple to represent weight. A subgraph $s$ is a set of edges $e$ and vertices $v$ such that $e \\subset E$ and $v \\subset V$.\n",
    "\n",
    "#### The Graph Abstract Data Type\n",
    "\n",
    "Defined as follows:\n",
    "* <span style=\"color:red;background-color:#fdf\">Graph()</span> creates a new, empty graph. \n",
    "* <span style=\"color:red;background-color:#fdf\">addVertex(vert)</span> adds an instance of <span style=\"color:red;background-color:#fdf\">Vertex</span> to the graph.\n",
    "* <span style=\"color:red;background-color:#fdf\">addEdge(fromVert, toVert)</span> adds a new, directed edge to the graph that connects two vertices.\n",
    "* <span style=\"color:red;background-color:#fdf\">addEdge(fromVert, toVert, weight</span> adds a new, weighted edge to the graph.\n",
    "* <span style=\"color:red;background-color:#fdf\">getVertex(vertKey)</span> finds the vertex in the graph named <span style=\"color:red;background-color:#fdf\">vertKey</span>.\n",
    "* <span style=\"color:red;background-color:#fdf\">getVertices()</span> returns the list of all vertices in the graph.\n",
    "* <span style=\"color:red;background-color:#fdf\">in</span> returns <span style=\"color:red;background-color:#fdf\">True</span> for a statement of the form <span style=\"color:red;background-color:#fdf\">vertex in graph</span>, if the given vertex is in the graph, <span style=\"color:red;background-color:#fdf\">False</span> otherwise.\n",
    "\n",
    "#### An Adjacency Matrix\n",
    "\n",
    "This method uses a two dimensional matrix to represent a graph. Each column and row represents a vertex. The value that is stored in the intersection of row $v$ and column $w$ indicates if there is an edge from vertex $v$ to vertex $w$. When two vertices are connected by an edge they are said to be adjacent. The value in a cell may represent the weight of the edge.\n",
    "\n",
    "| | V0 | V1 | V2 | V3 | V4 | V5 |\n",
    "| :---: | :---: | :---: | :---: | :---: | :---: | :---: |\n",
    "| V0 | | 5 | | | | 2 |\n",
    "| V1 |  |  | 4 |  |  |  |\n",
    "| V2 |  |  |  | 9 |  |  |\n",
    "| V3 |  |  |  |  | 7 | 3 |\n",
    "| V4 | 1 |  |  |  |  |  |\n",
    "| V5 |  |  | 1 |  | 8 |  |\n",
    "\n",
    "The problem with this method is that the matrix tends to be quite sparse and thus is an inefficient use of storage\n",
    "\n",
    "#### An Adjacency List\n",
    "\n",
    "In an adjacency list implementation, a list of all the vertices in the graph object is kept, and each vertex object in the graph maintains a list of all of the other vertices that it is connected to. A vertex object could, for example, contain class variables as a string to represent the vertex's name and a dictionary to hold the other vertex objects it is connected to and the edge weights. <span style=\"color:red;background-color:#fdf\">V0.id = \"V0\"</span> and <span style=\"color:red;background-color:#fdf\">V0.adj = {V2:1, V4:8}</span> Thus an adjacency list efficiently represents a sparse graph and allows us to easily find all of the links that are connected to a particular vertex.\n",
    "\n",
    "##### Implementation\n",
    "\n",
    "We will create two classes: <span style=\"color:red;background-color:#fdf\">Graph</span>, which contains the master list of vertices; and <span style=\"color:red;background-color:#fdf\">Vertex</span>, which will represent each vertex in the graph.\n",
    "\n",
    "Each <span style=\"color:red;background-color:#fdf\">Vertex</span> will maintain a dictionary, <span style=\"color:red;background-color:#fdf\">connectedTo</span>, containing which other vertices it is connected to as well as the edge weights. Below is the code for this class. The <span style=\"color:red;background-color:#fdf\">id</span> is typically a string. The <span style=\"color:red;background-color:#fdf\">addNeighboor</span> method is used to add a connection. <span style=\"color:red;background-color:#fdf\">getConnections</span> returns all of the vertices in the adjacency list, as represented by the <span style=\"color:red;background-color:#fdf\">connectedTo</span> variable. <span style=\"color:red;background-color:#fdf\">getWeight</span> returns the weight between this vertex and the one passed as a parameter"
   ]
  },
  {
   "cell_type": "code",
   "execution_count": 1,
   "metadata": {},
   "outputs": [],
   "source": [
    "class Vertex:\n",
    "    def __init__(self,key):\n",
    "        self.id = key\n",
    "        self.connectedTo = {}\n",
    "\n",
    "    def addNeighbor(self,nbr,weight=0):\n",
    "        self.connectedTo[nbr] = weight\n",
    "\n",
    "    def __str__(self):\n",
    "        return str(self.id) + ' connectedTo: ' + str([x.id for x in self.connectedTo])\n",
    "\n",
    "    def getConnections(self):\n",
    "        return self.connectedTo.keys()\n",
    "\n",
    "    def getId(self):\n",
    "        return self.id\n",
    "\n",
    "    def getWeight(self,nbr):\n",
    "        return self.connectedTo[nbr]"
   ]
  },
  {
   "cell_type": "markdown",
   "metadata": {},
   "source": [
    "The <span style=\"color:red;background-color:#fdf\">Graph</span> class will contain a dictionary mapping vertex names to vertex objects. There are methods for adding vertices and adding connections. <span style=\"color:red;background-color:#fdf\">getVertices</span> returns the names of all of the vertices in the graph. We will also implement an <span style=\"color:red;background-color:#fdf\">__iter__</span> method to iterate over all of the vertex objects in a graph. "
   ]
  },
  {
   "cell_type": "code",
   "execution_count": 5,
   "metadata": {},
   "outputs": [],
   "source": [
    "class Graph:\n",
    "    def __init__(self):\n",
    "        self.vertList = {}\n",
    "        self.numVertices = 0\n",
    "\n",
    "    def addVertex(self,key):\n",
    "        self.numVertices = self.numVertices + 1\n",
    "        newVertex = Vertex(key)\n",
    "        self.vertList[key] = newVertex\n",
    "        return newVertex\n",
    "\n",
    "    def getVertex(self,n):\n",
    "        if n in self.vertList:\n",
    "            return self.vertList[n]\n",
    "        else:\n",
    "            return None\n",
    "\n",
    "    def __contains__(self,n):\n",
    "        return n in self.vertList\n",
    "\n",
    "    def addEdge(self,f,t,cost=0):\n",
    "        if f not in self.vertList:\n",
    "            nv = self.addVertex(f)\n",
    "        if t not in self.vertList:\n",
    "            nv = self.addVertex(t)\n",
    "        self.vertList[f].addNeighbor(self.vertList[t], cost)\n",
    "\n",
    "    def getVertices(self):\n",
    "        return self.vertList.keys()\n",
    "\n",
    "    def __iter__(self):\n",
    "        return iter(self.vertList.values())"
   ]
  },
  {
   "cell_type": "markdown",
   "metadata": {},
   "source": [
    "Using the two classes above, the code below will create a graph and add six vertices numbered 0 through 5. Then the vertex dictionary is displayed. Next, edges are added between the vertices. Finally, a nested loop verifies that each edge is properly stored."
   ]
  },
  {
   "cell_type": "code",
   "execution_count": 7,
   "metadata": {},
   "outputs": [
    {
     "data": {
      "text/plain": [
       "{0: <__main__.Vertex at 0x2a38016c828>,\n",
       " 1: <__main__.Vertex at 0x2a38016c898>,\n",
       " 2: <__main__.Vertex at 0x2a38016c400>,\n",
       " 3: <__main__.Vertex at 0x2a38016c390>,\n",
       " 4: <__main__.Vertex at 0x2a38016c9b0>,\n",
       " 5: <__main__.Vertex at 0x2a38016c8d0>}"
      ]
     },
     "execution_count": 7,
     "metadata": {},
     "output_type": "execute_result"
    }
   ],
   "source": [
    "g = Graph()\n",
    "for i in range(6):\n",
    "    g.addVertex(i)\n",
    "g.vertList"
   ]
  },
  {
   "cell_type": "code",
   "execution_count": 11,
   "metadata": {},
   "outputs": [
    {
     "name": "stdout",
     "output_type": "stream",
     "text": [
      "(0, 1)\n",
      "(0, 5)\n",
      "(1, 2)\n",
      "(2, 3)\n",
      "(3, 4)\n",
      "(3, 5)\n",
      "(4, 0)\n",
      "(5, 2)\n",
      "(5, 4)\n"
     ]
    }
   ],
   "source": [
    "g.addEdge(0,1,5)\n",
    "g.addEdge(0,5,2)\n",
    "g.addEdge(1,2,4)\n",
    "g.addEdge(2,3,9)\n",
    "g.addEdge(3,4,7)\n",
    "g.addEdge(3,5,3)\n",
    "g.addEdge(4,0,1)\n",
    "g.addEdge(5,4,8)\n",
    "g.addEdge(5,2,1)\n",
    "for v in g:\n",
    "    for w in v.getConnections():\n",
    "        print(\"({}, {})\".format(v.getId(), w.getId()))"
   ]
  },
  {
   "cell_type": "markdown",
   "metadata": {},
   "source": [
    "#### The Word Ladder Problem\n",
    "\n"
   ]
  }
 ],
 "metadata": {
  "anaconda-cloud": {},
  "kernelspec": {
   "display_name": "Python [conda root]",
   "language": "python",
   "name": "conda-root-py"
  },
  "language_info": {
   "codemirror_mode": {
    "name": "ipython",
    "version": 3
   },
   "file_extension": ".py",
   "mimetype": "text/x-python",
   "name": "python",
   "nbconvert_exporter": "python",
   "pygments_lexer": "ipython3",
   "version": "3.5.4"
  }
 },
 "nbformat": 4,
 "nbformat_minor": 1
}
