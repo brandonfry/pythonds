{
 "cells": [
  {
   "attachments": {},
   "cell_type": "markdown",
   "metadata": {},
   "source": [
    "# Interactive Python\n",
    "## Chapter 7\n",
    "### Graphs and Graph Algorithms\n",
    "\n",
    "* Trees are a type of graph\n",
    "\n",
    "#### Vocabulary\n",
    "\n",
    "1. **Vertex** (**node**): fundamental part of a graph. It can have a name (**key**) and also additional information (**payload** or **value**).\n",
    "2. **Edge** (**arc**): conncts two vertices to show a relationship between them. May be one-way (**directed graph** or **digraph**) or two-way.\n",
    "3. **Weight**: edges may be weighted to show the cost of going from one vertex to another.\n",
    "4. **Path**: a sequence of vertices that are connected by edges. Formally defined as $w_1, w_2,...,w_n$ such that $(w_i,w_{i+1}) \\in E$ for all $1 \\le i \\le n-1$. The unweighted path length is the number of edges in path, specifically $n-1$. The weighted path length is the sum of the weights of all the edges in the path.\n",
    "5. **Cycle**: A cycle in a directed graph is a path that starts and ends at the same vertex. A graph with no cycles is called an **acyclic graph**. A directed graph with no cycles is likewise called a **directed acyclic graph** or **DAG**. \n",
    "\n",
    "#### Formal Definition of a Graph\n",
    "\n",
    "A graph $G$ where $G = (V,E)$. $V$ and $E$ are sets of vertices and edges, respectively. Each edge is a tuple $(v,w)$ where $w,v \\in V$. A third value may be added to the tuple to represent weight. A subgraph $s$ is a set of edges $e$ and vertices $v$ such that $e \\subset E$ and $v \\subset V$.\n",
    "\n",
    "#### The Graph Abstract Data Type\n",
    "\n",
    "Defined as follows:\n",
    "* <span style=\"color:red;background-color:#fdf\">Graph()</span> creates a new, empty graph. \n",
    "* <span style=\"color:red;background-color:#fdf\">addVertex(vert)</span> adds an instance of <span style=\"color:red;background-color:#fdf\">Vertex</span> to the graph.\n",
    "* <span style=\"color:red;background-color:#fdf\">addEdge(fromVert, toVert)</span> adds a new, directed edge to the graph that connects two vertices.\n",
    "* <span style=\"color:red;background-color:#fdf\">addEdge(fromVert, toVert, weight</span> adds a new, weighted edge to the graph.\n",
    "* <span style=\"color:red;background-color:#fdf\">getVertex(vertKey)</span> finds the vertex in the graph named <span style=\"color:red;background-color:#fdf\">vertKey</span>.\n",
    "* <span style=\"color:red;background-color:#fdf\">getVertices()</span> returns the list of all vertices in the graph.\n",
    "* <span style=\"color:red;background-color:#fdf\">in</span> returns <span style=\"color:red;background-color:#fdf\">True</span> for a statement of the form <span style=\"color:red;background-color:#fdf\">vertex in graph</span>, if the given vertex is in the graph, <span style=\"color:red;background-color:#fdf\">False</span> otherwise.\n",
    "\n",
    "#### The Adjacency Matrix\n",
    "\n",
    "This method uses a two dimensional matrix to represent a graph. Each column and row represents a vertex. The value that is stored in the intersection of row $v$ and column $w$ indicates if there is an edge from vertex $v$ to vertex $w$. When two vertices are connected by an edge they are said to be adjacent. The value in a cell may represent the weight of the edge.\n",
    "\n",
    "| | V0 | V1 | V2 | V3 | V4 | V5 |\n",
    "| :---: | :---: | :---: | :---: | :---: | :---: | :---: |\n",
    "| V0 | | 5 | | | | 2 |\n",
    "| V1 |  |  | 4 |  |  |  |\n",
    "| V2 |  |  |  | 9 |  |  |\n",
    "| V3 |  |  |  |  | 7 | 3 |\n",
    "| V4 | 1 |  |  |  |  |  |\n",
    "| V5 |  |  | 1 |  | 8 |  |\n",
    "\n",
    "The problem with this method is that the matrix tends to be quite sparse and thus is an ineffienct use of storage\n",
    "\n"
   ]
  },
  {
   "cell_type": "code",
   "execution_count": 2,
   "metadata": {},
   "outputs": [
    {
     "name": "stdout",
     "output_type": "stream",
     "text": [
      "hello world!\n"
     ]
    }
   ],
   "source": [
    "print(\"hello world!\")"
   ]
  },
  {
   "cell_type": "code",
   "execution_count": null,
   "metadata": {
    "collapsed": true
   },
   "outputs": [],
   "source": []
  }
 ],
 "metadata": {
  "anaconda-cloud": {},
  "kernelspec": {
   "display_name": "Python [conda root]",
   "language": "python",
   "name": "conda-root-py"
  },
  "language_info": {
   "codemirror_mode": {
    "name": "ipython",
    "version": 3
   },
   "file_extension": ".py",
   "mimetype": "text/x-python",
   "name": "python",
   "nbconvert_exporter": "python",
   "pygments_lexer": "ipython3",
   "version": "3.5.2"
  }
 },
 "nbformat": 4,
 "nbformat_minor": 1
}
