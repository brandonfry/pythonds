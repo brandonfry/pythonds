{
 "cells": [
  {
   "cell_type": "markdown",
   "metadata": {},
   "source": [
    "# Interactive Python\n",
    "## Chapter 7\n",
    "### Graphs and Graph Algorithms\n",
    "\n",
    "* Trees are a type of graph\n",
    "\n",
    "#### Vocabulary\n",
    "\n",
    "1. **Vertex** (**node**): fundamental part of a graph. It can have a name (**key**) and also additional information (**payload** or **value**).\n",
    "2. **Edge** (**arc**): conncts two vertices to show a relationship between them. May be one-way (**directed graph** or **digraph**) or two-way.\n",
    "3. **Weight**: edges may be weighted to show the cost of going from one vertex to another.\n",
    "4. **Path**: a sequence of vertices that are connected by edges. Formally defined as $w_1, w_2,...,w_n$ such that $(w_i,w_{i+1}) \\in E$ for all $1 \\le i \\le n-1$. The unweighted path length is the number of edges in path, specifically $n-1$. The weighted path length is the sum of the weights of all the edges in the path.\n",
    "5. **Cycle**: A cycle in a directed graph is a path that starts and ends at the same vertex. A graph with no cycles is called an **acyclic graph**. A directed graph with no cycles is likewise called a **directed acyclic graph** or **DAG**. \n",
    "\n",
    "#### Formal Definition of a Graph\n",
    "\n",
    "A graph $G$ where $G = (V,E)$. $V$ and $E$ are sets of vertices and edges, respectively. Each edge is a tuple $(v,w)$ where $w,v \\in V$. A third value may be added to the tuple to represent weight. A subgraph $s$ is a set of edges $e$ and vertices $v$ such that $e \\subset E$ and $v \\subset V$.\n",
    "\n",
    "#### The Graph Abstract Data Type\n",
    "\n",
    "Defined as follows:\n",
    "* <span style=\"color:red;background-color:#fdf\">Graph()</span> creates a new, empty graph. \n",
    "* <span style=\"color:red;background-color:#fdf\">addVertex(vert)</span> adds an instance of <span style=\"color:red;background-color:#fdf\">Vertex</span> to the graph.\n",
    "* <span style=\"color:red;background-color:#fdf\">addEdge(fromVert, toVert)</span> adds a new, directed edge to the graph that connects two vertices.\n",
    "* <span style=\"color:red;background-color:#fdf\">addEdge(fromVert, toVert, weight</span> adds a new, weighted edge to the graph.\n",
    "* <span style=\"color:red;background-color:#fdf\">getVertex(vertKey)</span> finds the vertex in the graph named <span style=\"color:red;background-color:#fdf\">vertKey</span>.\n",
    "* <span style=\"color:red;background-color:#fdf\">getVertices()</span> returns the list of all vertices in the graph.\n",
    "* <span style=\"color:red;background-color:#fdf\">in</span> returns <span style=\"color:red;background-color:#fdf\">True</span> for a statement of the form <span style=\"color:red;background-color:#fdf\">vertex in graph</span>, if the given vertex is in the graph, <span style=\"color:red;background-color:#fdf\">False</span> otherwise.\n",
    "\n",
    "#### An Adjacency Matrix\n",
    "\n",
    "This method uses a two dimensional matrix to represent a graph. Each column and row represents a vertex. The value that is stored in the intersection of row $v$ and column $w$ indicates if there is an edge from vertex $v$ to vertex $w$. When two vertices are connected by an edge they are said to be adjacent. The value in a cell may represent the weight of the edge.\n",
    "\n",
    "| | V0 | V1 | V2 | V3 | V4 | V5 |\n",
    "| :---: | :---: | :---: | :---: | :---: | :---: | :---: |\n",
    "| V0 | | 5 | | | | 2 |\n",
    "| V1 |  |  | 4 |  |  |  |\n",
    "| V2 |  |  |  | 9 |  |  |\n",
    "| V3 |  |  |  |  | 7 | 3 |\n",
    "| V4 | 1 |  |  |  |  |  |\n",
    "| V5 |  |  | 1 |  | 8 |  |\n",
    "\n",
    "The problem with this method is that the matrix tends to be quite sparse and thus is an inefficient use of storage\n",
    "\n",
    "#### An Adjacency List\n",
    "\n",
    "In an adjacency list implementation, a list of all the vertices in the graph object is kept, and each vertex object in the graph maintains a list of all of the other vertices that it is connected to. A vertex object could, for example, contain class variables as a string to represent the vertex's name and a dictionary to hold the other vertex objects it is connected to and the edge weights. <span style=\"color:red;background-color:#fdf\">V0.id = \"V0\"</span> and <span style=\"color:red;background-color:#fdf\">V0.adj = {V2:1, V4:8}</span> Thus an adjacency list efficiently represents a sparse graph and allows us to easily find all of the links that are connected to a particular vertex.\n",
    "\n",
    "##### Implementation\n",
    "\n",
    "We will create two classes: <span style=\"color:red;background-color:#fdf\">Graph</span>, which contains the master list of vertices; and <span style=\"color:red;background-color:#fdf\">Vertex</span>, which will represent each vertex in the graph.\n",
    "\n",
    "Each <span style=\"color:red;background-color:#fdf\">Vertex</span> will maintain a dictionary, <span style=\"color:red;background-color:#fdf\">connectedTo</span>, containing which other vertices it is connected to as well as the edge weights. Below is the code for this class. The <span style=\"color:red;background-color:#fdf\">id</span> is typically a string. The <span style=\"color:red;background-color:#fdf\">addNeighboor</span> method is used to add a connection. <span style=\"color:red;background-color:#fdf\">getConnections</span> returns all of the vertices in the adjacency list, as represented by the <span style=\"color:red;background-color:#fdf\">connectedTo</span> variable. <span style=\"color:red;background-color:#fdf\">getWeight</span> returns the weight between this vertex and the one passed as a parameter"
   ]
  },
  {
   "cell_type": "code",
   "execution_count": 1,
   "metadata": {
    "collapsed": true
   },
   "outputs": [],
   "source": [
    "class Vertex:\n",
    "    def __init__(self,key):\n",
    "        self.id = key\n",
    "        self.connectedTo = {}\n",
    "\n",
    "    def addNeighbor(self,nbr,weight=0):\n",
    "        self.connectedTo[nbr] = weight\n",
    "\n",
    "    def __str__(self):\n",
    "        return str(self.id) + ' connectedTo: ' + str([x.id for x in self.connectedTo])\n",
    "\n",
    "    def getConnections(self):\n",
    "        return self.connectedTo.keys()\n",
    "\n",
    "    def getId(self):\n",
    "        return self.id\n",
    "\n",
    "    def getWeight(self,nbr):\n",
    "        return self.connectedTo[nbr]"
   ]
  },
  {
   "cell_type": "markdown",
   "metadata": {},
   "source": [
    "The <span style=\"color:red;background-color:#fdf\">Graph</span> class will contain a dictionary mapping vertex names to vertex objects. There are methods for adding vertices and adding connections. <span style=\"color:red;background-color:#fdf\">getVertices</span> returns the names of all of the vertices in the graph. We will also implement an <span style=\"color:red;background-color:#fdf\">__iter__</span> method to iterate over all of the vertex objects in a graph. "
   ]
  },
  {
   "cell_type": "code",
   "execution_count": 2,
   "metadata": {
    "collapsed": true
   },
   "outputs": [],
   "source": [
    "class Graph:\n",
    "    def __init__(self):\n",
    "        self.vertList = {}\n",
    "        self.numVertices = 0\n",
    "\n",
    "    def addVertex(self,key):\n",
    "        self.numVertices = self.numVertices + 1\n",
    "        newVertex = Vertex(key)\n",
    "        self.vertList[key] = newVertex\n",
    "        return newVertex\n",
    "\n",
    "    def getVertex(self,n):\n",
    "        if n in self.vertList:\n",
    "            return self.vertList[n]\n",
    "        else:\n",
    "            return None\n",
    "\n",
    "    def __contains__(self,n):\n",
    "        return n in self.vertList\n",
    "\n",
    "    def addEdge(self,f,t,cost=0):\n",
    "        if f not in self.vertList:\n",
    "            nv = self.addVertex(f)\n",
    "        if t not in self.vertList:\n",
    "            nv = self.addVertex(t)\n",
    "        self.vertList[f].addNeighbor(self.vertList[t], cost)\n",
    "\n",
    "    def getVertices(self):\n",
    "        return self.vertList.keys()\n",
    "\n",
    "    def __iter__(self):\n",
    "        return iter(self.vertList.values())"
   ]
  },
  {
   "cell_type": "markdown",
   "metadata": {},
   "source": [
    "Using the two classes above, the code below will create a graph and add six vertices numbered 0 through 5. Then the vertex dictionary is displayed. Next, edges are added between the vertices. Finally, a nested loop verifies that each edge is properly stored."
   ]
  },
  {
   "cell_type": "code",
   "execution_count": 3,
   "metadata": {},
   "outputs": [
    {
     "data": {
      "text/plain": [
       "{0: <__main__.Vertex at 0x2529b24bef0>,\n",
       " 1: <__main__.Vertex at 0x2529b24be48>,\n",
       " 2: <__main__.Vertex at 0x2529b24be80>,\n",
       " 3: <__main__.Vertex at 0x2529b24beb8>,\n",
       " 4: <__main__.Vertex at 0x2529b24bf28>,\n",
       " 5: <__main__.Vertex at 0x2529b24bf60>}"
      ]
     },
     "execution_count": 3,
     "metadata": {},
     "output_type": "execute_result"
    }
   ],
   "source": [
    "g = Graph()\n",
    "for i in range(6):\n",
    "    g.addVertex(i)\n",
    "g.vertList"
   ]
  },
  {
   "cell_type": "code",
   "execution_count": 4,
   "metadata": {},
   "outputs": [
    {
     "name": "stdout",
     "output_type": "stream",
     "text": [
      "(0, 1)\n",
      "(0, 5)\n",
      "(1, 2)\n",
      "(2, 3)\n",
      "(3, 4)\n",
      "(3, 5)\n",
      "(4, 0)\n",
      "(5, 2)\n",
      "(5, 4)\n"
     ]
    }
   ],
   "source": [
    "g.addEdge(0,1,5)\n",
    "g.addEdge(0,5,2)\n",
    "g.addEdge(1,2,4)\n",
    "g.addEdge(2,3,9)\n",
    "g.addEdge(3,4,7)\n",
    "g.addEdge(3,5,3)\n",
    "g.addEdge(4,0,1)\n",
    "g.addEdge(5,4,8)\n",
    "g.addEdge(5,2,1)\n",
    "for v in g:\n",
    "    for w in v.getConnections():\n",
    "        print(\"({}, {})\".format(v.getId(), w.getId()))"
   ]
  },
  {
   "cell_type": "markdown",
   "metadata": {},
   "source": [
    "#### The Word Ladder Problem\n",
    "\n",
    "In the word ladder problem, you must change one word into another by changing one letter at a time. At each step the word must remain a valid word. Consider the words \"fool\" and \"sage\":\n",
    "\n",
    "```\n",
    "FOOL\n",
    "POOL\n",
    "POLL\n",
    "POLE\n",
    "PALE\n",
    "SALE\n",
    "SAGE\n",
    "```\n",
    "\n",
    "This problem can be solved using graph theory by:\n",
    "\n",
    "* representing the relationships between the words as graphs\n",
    "* using the graph algorithm known as breadth first search to find an efficient path from the starting word to the ending word.\n",
    "\n",
    "##### Building the word ladder graph\n",
    "\n",
    "In order to solve the problem, we need to turn a collection of words into a graph. We would like to have an edge from one word to another when they are different only by a single letter. In this case, an undirected graph without edge-weighting is appropriate.\n",
    "\n",
    "We start with the assumption that every word is of the same length. Next we create a vertex for every word. To create the edges we could compare every word with each other, forming an edge when the difference is one character, but this would lead to $n^2$ comparisons.\n",
    "\n",
    "Instead we will use a bucket approach. Each bucket represents a word with one of the characters replaced by an underscore; `POOL` becomes `_OOL` for example. Now every word that matches the last three characters can be placed in this bucket. In this case `FOOL`, `COOL`, etc would be in this bucket. Then an edge can be created between each vertex in the bucket.\n",
    "\n",
    "We will implement this scheme with a dictionary, and the bucket labels will be the keys. The values are lists of words stored in those buckets. Once the dictionary is in place we can build the graph by first creating a vertex for each word and then edges between all vertices in the same buckets. "
   ]
  },
  {
   "cell_type": "code",
   "execution_count": 6,
   "metadata": {},
   "outputs": [],
   "source": [
    "from pythonds.graphs import Graph\n",
    "\n",
    "# Changed input from wordFile to wordList for the purpose of \n",
    "# making this notebook work without the file.\n",
    "def buildGraph(wordList):\n",
    "    d = {}\n",
    "    g = Graph()\n",
    "    # wfile = open(wordFile,'r')\n",
    "    # create buckets of words that differ by one letter\n",
    "    # for line in wfile:\n",
    "        # word = line[:-1]\n",
    "    for word in wordList:\n",
    "        \n",
    "        for i in range(len(word)):\n",
    "            bucket = word[:i] + '_' + word[i+1:]\n",
    "            if bucket in d:\n",
    "                d[bucket].append(word)\n",
    "            else:\n",
    "                d[bucket] = [word]\n",
    "    # add vertices and edges for words in the same bucket\n",
    "    for bucket in d.keys():\n",
    "        for word1 in d[bucket]:\n",
    "            for word2 in d[bucket]:\n",
    "                if word1 != word2:\n",
    "                    g.addEdge(word1,word2)\n",
    "    return g"
   ]
  },
  {
   "cell_type": "markdown",
   "metadata": {},
   "source": [
    "For our example the word list is 5110 words long. If we used an adjacency matrix we would have $5110 \\times 5110 = 26,112,100$ cells. Our graph has 53,286 edges, meaning the matrix would only have 0.20% of the cells filled!\n",
    "\n",
    "##### Implementing breadth first search\n",
    "\n",
    "**Breadth first search (BFS)** is one of the easiest algorithms for searching a graph. It also serves as a prototype for several other important graph algorithms. \n",
    "\n",
    "Given a graph $G$ and a vertex $s$, BFS starts by exploring the edges in the graph to find all vertices in $G$ from which there is a path to $s$. BFS will find *all* the vertices of distance $k$ away before finding *any* of a distance $k + 1$. Imagining BFS as building a tree, it adds all the children of the starting vertex before it begins to discover any of the grandchildren.\n",
    "\n",
    "To keep track of progress, BFS colors each vertex with white, grey, or black. Vertices are initialized to white (undiscovered). The color is changed to grey when the vertex is initially discovered and to black when it has been fully explored.\n",
    "\n",
    "The algorithm below uses the adjacency graph list representation we used earlier. Additionally it uses a `Queue` to decide which vertex to explore next.\n",
    "\n",
    "Additionally the BFS uses an extended `Vertex` class. This class has three new instance variables: distance, predecessor and color.\n",
    "\n",
    "BFS starts at vertex `s` and initializes the color to grey, distance to 0 and predecessor to None. We then iterate over each vertex in adjacency list. If the node's color is white the vertex is unexplored and four things happen.\n",
    "\n",
    "1. The new unexplored vertex `nbr` is colored grey.\n",
    "2. The predecessor is set to the `currentVert`.\n",
    "3. The distance to `nbr` is set as the distance to the `currentVert + 1`.\n",
    "4. `nbr` is added to the end of the queue. By doing this schedules the node for exploration, but not until all of the other vertices in the adjacency list of `currentVert` have been explored."
   ]
  },
  {
   "cell_type": "code",
   "execution_count": 8,
   "metadata": {},
   "outputs": [],
   "source": [
    "from pythonds.graphs import Graph, Vertex\n",
    "from pythonds.basic import Queue\n",
    "\n",
    "def bfs(g,start):\n",
    "  start.setDistance(0)\n",
    "  start.setPred(None)\n",
    "  vertQueue = Queue()\n",
    "  vertQueue.enqueue(start)\n",
    "  while (vertQueue.size() > 0):\n",
    "    currentVert = vertQueue.dequeue()\n",
    "    for nbr in currentVert.getConnections():\n",
    "      if (nbr.getColor() == 'white'):\n",
    "        nbr.setColor('gray')\n",
    "        nbr.setDistance(currentVert.getDistance() + 1)\n",
    "        nbr.setPred(currentVert)\n",
    "        vertQueue.enqueue(nbr)\n",
    "    currentVert.setColor('black')\n",
    "    \n",
    "wordList = ['fool', 'foul', 'foil', 'fail', 'fall', 'pall', 'pole', 'poll', 'pool',\n",
    "            'cool', 'pope', 'pale', 'sale', 'page', 'sage']\n",
    "g = buildGraph(wordList)\n",
    "bfs(g, g.getVertex('fool'))"
   ]
  },
  {
   "cell_type": "markdown",
   "metadata": {},
   "source": [
    "The following code snippet can be used to traceback from an ending word to print out the entire word ladder."
   ]
  },
  {
   "cell_type": "code",
   "execution_count": 9,
   "metadata": {},
   "outputs": [
    {
     "name": "stdout",
     "output_type": "stream",
     "text": [
      "sage\n",
      "sale\n",
      "pale\n",
      "pall\n",
      "poll\n",
      "pool\n",
      "fool\n"
     ]
    }
   ],
   "source": [
    "def traverse(y):\n",
    "    x = y\n",
    "    while (x.getPred()):\n",
    "        print(x.getId())\n",
    "        x = x.getPred()\n",
    "    print(x.getId())\n",
    "\n",
    "traverse(g.getVertex('sage'))"
   ]
  },
  {
   "cell_type": "markdown",
   "metadata": {},
   "source": []
  }
 ],
 "metadata": {
  "anaconda-cloud": {},
  "kernelspec": {
   "display_name": "Python [conda root]",
   "language": "python",
   "name": "conda-root-py"
  },
  "language_info": {
   "codemirror_mode": {
    "name": "ipython",
    "version": 3
   },
   "file_extension": ".py",
   "mimetype": "text/x-python",
   "name": "python",
   "nbconvert_exporter": "python",
   "pygments_lexer": "ipython3",
   "version": "3.5.4"
  }
 },
 "nbformat": 4,
 "nbformat_minor": 1
}
